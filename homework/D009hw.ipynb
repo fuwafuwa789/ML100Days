{
 "cells": [
  {
   "cell_type": "markdown",
   "metadata": {
    "colab_type": "text",
    "id": "P6xk2_jLsvFF"
   },
   "source": [
    "# [作業目標]\n",
    "\n",
    "1. 請建立類似提供結果的 DataFrame：\n",
    "\n",
    "```\n",
    "#    Apples  Bananas\n",
    "# 0      30       21\n",
    "\n",
    "#             Apples  Bananas\n",
    "# 2017 Sales      35       21\n",
    "# 2018 Sales      41       34\n",
    "\n",
    "```\n",
    "\n",
    "2. 請問如果現在有一個 DataFrame 如下，請問資料在 Python 中可能長怎樣？\n",
    "\n",
    "```\n",
    "#      city  visitor weekday\n",
    "# 0  Austin      139     Sun\n",
    "# 1  Dallas      237     Sun\n",
    "# 2  Austin      326     Mon\n",
    "# 3  Dallas      456     Mon\n",
    "```\n",
    "\n",
    "3. 假設你想知道每個 weekday 的平均 visitor 數量，可以怎麼做？\n"
   ]
  },
  {
   "cell_type": "markdown",
   "metadata": {
    "colab_type": "text",
    "id": "uXGll28asvFS"
   },
   "source": [
    "# 作業 "
   ]
  },
  {
   "cell_type": "markdown",
   "metadata": {},
   "source": [
    "### 1. 請建立類似提供結果的 DataFrame：\n",
    "\n",
    "```\n",
    "#    Apples  Bananas\n",
    "# 0      30       21\n",
    "\n",
    "#             Apples  Bananas\n",
    "# 2017 Sales      35       21\n",
    "# 2018 Sales      41       34\n",
    "\n",
    "```\n",
    "\n"
   ]
  },
  {
   "cell_type": "code",
   "execution_count": 14,
   "metadata": {},
   "outputs": [],
   "source": [
    "import pandas as pd\n",
    "import numpy as np"
   ]
  },
  {
   "cell_type": "code",
   "execution_count": 6,
   "metadata": {
    "colab": {},
    "colab_type": "code",
    "id": "5QrYoyNWsvFS"
   },
   "outputs": [
    {
     "name": "stdout",
     "output_type": "stream",
     "text": [
      "   Apples  Bananas\n",
      "0      30       21\n",
      "            Apples  Bananas\n",
      "2017 Sales      35       21\n",
      "2018 Sales      41       34\n"
     ]
    }
   ],
   "source": [
    "df1 = pd.DataFrame([[30,21]] , columns=['Apples','Bananas'])\n",
    "print(df1)\n",
    "df2 = pd.DataFrame([[35,21],[41,34]] , index=['2017 Sales','2018 Sales'] , columns=['Apples','Bananas'])\n",
    "print(df2)"
   ]
  },
  {
   "cell_type": "markdown",
   "metadata": {},
   "source": [
    "### 2. 請問如果現在有一個 DataFrame 如下，請問資料在 Python 中可能長怎樣？\n",
    "\n",
    "```\n",
    "#      city  visitor weekday\n",
    "# 0  Austin      139     Sun\n",
    "# 1  Dallas      237     Sun\n",
    "# 2  Austin      326     Mon\n",
    "# 3  Dallas      456     Mon\n",
    "```\n",
    "\n"
   ]
  },
  {
   "cell_type": "code",
   "execution_count": 9,
   "metadata": {
    "colab": {},
    "colab_type": "code",
    "id": "e1gVI0tvsvFY"
   },
   "outputs": [
    {
     "name": "stdout",
     "output_type": "stream",
     "text": [
      "     city visitor weekday\n",
      "0  Austin     139     Sun\n",
      "1  Dallas     237     Sun\n",
      "2  Austin     326     Mon\n",
      "3  Dallas     456     Mon\n",
      "     city visitor weekday\n",
      "0  Austin     139     Sun\n",
      "1  Dallas     237     Sun\n",
      "2  Austin     326     Mon\n",
      "3  Dallas     456     Mon\n",
      "     city visitor weekday\n",
      "0  Austin     139     Sun\n",
      "1  Dallas     237     Sun\n",
      "2  Austin     326     Mon\n",
      "3  Dallas     456     Mon\n",
      "     city visitor weekday\n",
      "0  Austin     139     Sun\n",
      "1  Dallas     237     Sun\n",
      "2  Austin     326     Mon\n",
      "3  Dallas     456     Mon\n"
     ]
    },
    {
     "name": "stderr",
     "output_type": "stream",
     "text": [
      "C:\\Users\\User\\Anaconda3\\lib\\site-packages\\ipykernel_launcher.py:26: FutureWarning: from_items is deprecated. Please use DataFrame.from_dict(dict(items), ...) instead. DataFrame.from_dict(OrderedDict(items)) may be used to preserve the key order.\n"
     ]
    }
   ],
   "source": [
    "# 第一種型態\n",
    "data1 = [{'city':'Austin','visitor':'139','weekday':'Sun'},\n",
    "        {'city': 'Dallas','visitor':'237','weekday':'Sun'},\n",
    "        {'city': 'Austin','visitor':'326','weekday':'Mon'},\n",
    "        {'city':'Dallas','visitor':'456','weekday':'Mon'}]\n",
    "df2_1 = pd.DataFrame(data1)\n",
    "\n",
    "#第二種型態\n",
    "data2 = {'city':['Austin','Dallas','Austin','Dallas'],\n",
    "        'visitor':['139','237','326','456'],\n",
    "        'weekday':['Sun','Sun','Mon','Mon']}\n",
    "df2_2 = pd.DataFrame(data2)\n",
    "\n",
    "#第三種型態\n",
    "data3 = [['Austin','139','Sun'],\n",
    "         ['Dallas','237','Sun'],\n",
    "         ['Austin','326','Mon'],\n",
    "         ['Dallas','456','Mon']]\n",
    "labels3 = ['city','visitor','weekday']\n",
    "df2_3 = pd.DataFrame(data3 , columns=labels3)\n",
    "\n",
    "#第四種型態\n",
    "data4 = [['city',['Austin','Dallas','Austin','Dallas']],\n",
    "        ['visitor',['139','237','326','456']],\n",
    "        ['weekday',['Sun','Sun','Mon','Mon']]]\n",
    "df2_4 = pd.DataFrame.from_items(data4)\n",
    "\n",
    "print(df2_1)\n",
    "print(df2_2)\n",
    "print(df2_3)\n",
    "print(df2_4)"
   ]
  },
  {
   "cell_type": "markdown",
   "metadata": {},
   "source": [
    "### 3. 承上題，假設你想知道每個 weekday 的平均 visitor 數量，可以怎麼做？\n"
   ]
  },
  {
   "cell_type": "code",
   "execution_count": 42,
   "metadata": {},
   "outputs": [
    {
     "name": "stdout",
     "output_type": "stream",
     "text": [
      "mean on sunday : 188.0\n",
      "mean on monday : 391.0\n"
     ]
    }
   ],
   "source": [
    "mean_sun = (int(df2_1['visitor'].iloc[0])+int(df2_1['visitor'].iloc[1]))/2\n",
    "mean_mon = (int(df2_1['visitor'].iloc[3])+int(df2_1['visitor'].iloc[2]))/2\n",
    "print('mean on sunday :',mean_sun)\n",
    "print('mean on monday :',mean_mon)"
   ]
  },
  {
   "cell_type": "code",
   "execution_count": null,
   "metadata": {},
   "outputs": [],
   "source": []
  },
  {
   "cell_type": "code",
   "execution_count": null,
   "metadata": {},
   "outputs": [],
   "source": []
  }
 ],
 "metadata": {
  "colab": {
   "name": "Day_023_HW.ipynb",
   "provenance": []
  },
  "kernelspec": {
   "display_name": "Python 3",
   "language": "python",
   "name": "python3"
  },
  "language_info": {
   "codemirror_mode": {
    "name": "ipython",
    "version": 3
   },
   "file_extension": ".py",
   "mimetype": "text/x-python",
   "name": "python",
   "nbconvert_exporter": "python",
   "pygments_lexer": "ipython3",
   "version": "3.7.3"
  }
 },
 "nbformat": 4,
 "nbformat_minor": 1
}
